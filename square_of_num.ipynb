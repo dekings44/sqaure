{
 "cells": [
  {
   "cell_type": "code",
   "execution_count": 2,
   "id": "c8bbab3c-8337-4047-b739-37aa07d11b94",
   "metadata": {},
   "outputs": [
    {
     "data": {
      "text/plain": [
       "100"
      ]
     },
     "execution_count": 2,
     "metadata": {},
     "output_type": "execute_result"
    }
   ],
   "source": [
    "def square_of_num(num):\n",
    "    return num ** 2\n",
    "\n",
    "square_of_num(10)"
   ]
  },
  {
   "cell_type": "code",
   "execution_count": null,
   "id": "7180bca9-f3f2-4839-a8a4-18b903c4abf8",
   "metadata": {},
   "outputs": [],
   "source": []
  }
 ],
 "metadata": {
  "kernelspec": {
   "display_name": "Python 3",
   "language": "python",
   "name": "python3"
  },
  "language_info": {
   "codemirror_mode": {
    "name": "ipython",
    "version": 3
   },
   "file_extension": ".py",
   "mimetype": "text/x-python",
   "name": "python",
   "nbconvert_exporter": "python",
   "pygments_lexer": "ipython3",
   "version": "3.9.5"
  }
 },
 "nbformat": 4,
 "nbformat_minor": 5
}
